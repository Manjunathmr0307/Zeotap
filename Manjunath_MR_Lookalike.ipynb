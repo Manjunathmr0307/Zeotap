{
  "nbformat": 4,
  "nbformat_minor": 0,
  "metadata": {
    "colab": {
      "provenance": [],
      "authorship_tag": "ABX9TyNPW4bSvoEJLmsTZj6YdNXE",
      "include_colab_link": true
    },
    "kernelspec": {
      "name": "python3",
      "display_name": "Python 3"
    },
    "language_info": {
      "name": "python"
    }
  },
  "cells": [
    {
      "cell_type": "markdown",
      "metadata": {
        "id": "view-in-github",
        "colab_type": "text"
      },
      "source": [
        "<a href=\"https://colab.research.google.com/github/Manjunathmr0307/Zeotap/blob/main/Manjunath_MR_Lookalike.ipynb\" target=\"_parent\"><img src=\"https://colab.research.google.com/assets/colab-badge.svg\" alt=\"Open In Colab\"/></a>"
      ]
    },
    {
      "cell_type": "code",
      "execution_count": 3,
      "metadata": {
        "id": "EqhiIavsReIY"
      },
      "outputs": [],
      "source": [
        "import pandas as pd\n",
        "import matplotlib.pyplot as plt\n",
        "import seaborn as sns\n",
        "from sklearn.metrics.pairwise import cosine_similarity\n",
        "from sklearn.preprocessing import StandardScaler"
      ]
    },
    {
      "cell_type": "code",
      "source": [
        "customers = pd.read_csv('/Customers.csv')\n",
        "transactions = pd.read_csv('/Transactions.csv')"
      ],
      "metadata": {
        "id": "z5IbBYK3Sw50"
      },
      "execution_count": 5,
      "outputs": []
    },
    {
      "cell_type": "code",
      "source": [
        "customer_transactions = transactions.groupby('CustomerID')['TotalValue'].sum().reset_index()\n",
        "customer_profile = customers.merge(customer_transactions, on='CustomerID', how='left').fillna(0)"
      ],
      "metadata": {
        "id": "kq4IOpKySOzQ"
      },
      "execution_count": 6,
      "outputs": []
    },
    {
      "cell_type": "code",
      "source": [
        "scaler = StandardScaler()\n",
        "normalized_data = scaler.fit_transform(customer_profile[['TotalValue']])"
      ],
      "metadata": {
        "id": "HwQEpqsiSWq8"
      },
      "execution_count": 7,
      "outputs": []
    },
    {
      "cell_type": "code",
      "execution_count": 8,
      "metadata": {
        "id": "q2EDZuLgSapP"
      },
      "outputs": [],
      "source": [
        "similarity_matrix = cosine_similarity(normalized_data)\n",
        "customer_profile['SimilarityScores'] = similarity_matrix.tolist()"
      ]
    },
    {
      "cell_type": "code",
      "source": [
        "lookalike_results = {}\n",
        "for i, customer in enumerate(customer_profile['CustomerID']):\n",
        "    similarities = list(enumerate(similarity_matrix[i]))\n",
        "    top_similar = sorted(similarities, key=lambda x: x[1], reverse=True)[1:4]\n",
        "    lookalike_results[customer] = [(customer_profile.iloc[j]['CustomerID'], score) for j, score in top_similar]"
      ],
      "metadata": {
        "id": "57iHT2e5SX7l"
      },
      "execution_count": 9,
      "outputs": []
    },
    {
      "cell_type": "code",
      "source": [
        "lookalike_df = pd.DataFrame([\n",
        "    {'CustomerID': key, 'Recommendations': val}\n",
        "    for key, val in lookalike_results.items()\n",
        "])\n",
        "lookalike_df.to_csv('Lookalike.csv', index=False)"
      ],
      "metadata": {
        "id": "gOtnmyHFSUj7"
      },
      "execution_count": 10,
      "outputs": []
    },
    {
      "cell_type": "code",
      "source": [
        "from google.colab import files\n",
        "files.download(\"Lookalike.csv\")"
      ],
      "metadata": {
        "colab": {
          "base_uri": "https://localhost:8080/",
          "height": 17
        },
        "id": "tnuEYd6jTmnt",
        "outputId": "e6e70f85-b7d2-4af7-fdb2-c47e047bbb29"
      },
      "execution_count": 11,
      "outputs": [
        {
          "output_type": "display_data",
          "data": {
            "text/plain": [
              "<IPython.core.display.Javascript object>"
            ],
            "application/javascript": [
              "\n",
              "    async function download(id, filename, size) {\n",
              "      if (!google.colab.kernel.accessAllowed) {\n",
              "        return;\n",
              "      }\n",
              "      const div = document.createElement('div');\n",
              "      const label = document.createElement('label');\n",
              "      label.textContent = `Downloading \"${filename}\": `;\n",
              "      div.appendChild(label);\n",
              "      const progress = document.createElement('progress');\n",
              "      progress.max = size;\n",
              "      div.appendChild(progress);\n",
              "      document.body.appendChild(div);\n",
              "\n",
              "      const buffers = [];\n",
              "      let downloaded = 0;\n",
              "\n",
              "      const channel = await google.colab.kernel.comms.open(id);\n",
              "      // Send a message to notify the kernel that we're ready.\n",
              "      channel.send({})\n",
              "\n",
              "      for await (const message of channel.messages) {\n",
              "        // Send a message to notify the kernel that we're ready.\n",
              "        channel.send({})\n",
              "        if (message.buffers) {\n",
              "          for (const buffer of message.buffers) {\n",
              "            buffers.push(buffer);\n",
              "            downloaded += buffer.byteLength;\n",
              "            progress.value = downloaded;\n",
              "          }\n",
              "        }\n",
              "      }\n",
              "      const blob = new Blob(buffers, {type: 'application/binary'});\n",
              "      const a = document.createElement('a');\n",
              "      a.href = window.URL.createObjectURL(blob);\n",
              "      a.download = filename;\n",
              "      div.appendChild(a);\n",
              "      a.click();\n",
              "      div.remove();\n",
              "    }\n",
              "  "
            ]
          },
          "metadata": {}
        },
        {
          "output_type": "display_data",
          "data": {
            "text/plain": [
              "<IPython.core.display.Javascript object>"
            ],
            "application/javascript": [
              "download(\"download_6c216b5b-ee71-4293-afc0-b7392388319e\", \"Lookalike.csv\", 11427)"
            ]
          },
          "metadata": {}
        }
      ]
    }
  ]
}