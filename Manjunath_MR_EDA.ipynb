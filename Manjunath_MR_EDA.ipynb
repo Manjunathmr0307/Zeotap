{
  "nbformat": 4,
  "nbformat_minor": 0,
  "metadata": {
    "colab": {
      "provenance": [],
      "authorship_tag": "ABX9TyN538IUAox18+CVVrIWvWS9",
      "include_colab_link": true
    },
    "kernelspec": {
      "name": "python3",
      "display_name": "Python 3"
    },
    "language_info": {
      "name": "python"
    }
  },
  "cells": [
    {
      "cell_type": "markdown",
      "metadata": {
        "id": "view-in-github",
        "colab_type": "text"
      },
      "source": [
        "<a href=\"https://colab.research.google.com/github/Manjunathmr0307/Zeotap/blob/main/Manjunath_MR_EDA.ipynb\" target=\"_parent\"><img src=\"https://colab.research.google.com/assets/colab-badge.svg\" alt=\"Open In Colab\"/></a>"
      ]
    },
    {
      "cell_type": "code",
      "execution_count": 16,
      "metadata": {
        "id": "ghTeRZ41OXeF"
      },
      "outputs": [],
      "source": [
        "import pandas as pd\n",
        "import matplotlib.pyplot as plt\n",
        "import seaborn as sns"
      ]
    },
    {
      "cell_type": "code",
      "source": [
        "customers=pd.read_csv('/Customers.csv')"
      ],
      "metadata": {
        "id": "ko1B_U0XP1Ne"
      },
      "execution_count": 17,
      "outputs": []
    },
    {
      "cell_type": "code",
      "source": [
        "print(customers)"
      ],
      "metadata": {
        "colab": {
          "base_uri": "https://localhost:8080/"
        },
        "id": "YG50uISLQSEL",
        "outputId": "f9db3ff9-6d70-4f87-addf-bb1c49493298"
      },
      "execution_count": 18,
      "outputs": [
        {
          "output_type": "stream",
          "name": "stdout",
          "text": [
            "    CustomerID        CustomerName         Region  SignupDate\n",
            "0        C0001    Lawrence Carroll  South America  2022-07-10\n",
            "1        C0002      Elizabeth Lutz           Asia  2022-02-13\n",
            "2        C0003      Michael Rivera  South America  2024-03-07\n",
            "3        C0004  Kathleen Rodriguez  South America  2022-10-09\n",
            "4        C0005         Laura Weber           Asia  2022-08-15\n",
            "..         ...                 ...            ...         ...\n",
            "195      C0196         Laura Watts         Europe  2022-06-07\n",
            "196      C0197    Christina Harvey         Europe  2023-03-21\n",
            "197      C0198         Rebecca Ray         Europe  2022-02-27\n",
            "198      C0199      Andrea Jenkins         Europe  2022-12-03\n",
            "199      C0200         Kelly Cross           Asia  2023-06-11\n",
            "\n",
            "[200 rows x 4 columns]\n"
          ]
        }
      ]
    },
    {
      "cell_type": "code",
      "source": [
        "products=pd.read_csv('/Products.csv')"
      ],
      "metadata": {
        "id": "guaVGTGiQVr7"
      },
      "execution_count": 19,
      "outputs": []
    },
    {
      "cell_type": "code",
      "source": [
        "print(products)"
      ],
      "metadata": {
        "colab": {
          "base_uri": "https://localhost:8080/"
        },
        "id": "d4p9u4S1Qaxs",
        "outputId": "41b67cd0-9be9-47dd-f7bf-c7d5f741c1db"
      },
      "execution_count": 20,
      "outputs": [
        {
          "output_type": "stream",
          "name": "stdout",
          "text": [
            "   ProductID              ProductName     Category   Price\n",
            "0       P001     ActiveWear Biography        Books  169.30\n",
            "1       P002    ActiveWear Smartwatch  Electronics  346.30\n",
            "2       P003  ComfortLiving Biography        Books   44.12\n",
            "3       P004            BookWorld Rug   Home Decor   95.69\n",
            "4       P005          TechPro T-Shirt     Clothing  429.31\n",
            "..       ...                      ...          ...     ...\n",
            "95      P096     SoundWave Headphones  Electronics  307.47\n",
            "96      P097       BookWorld Cookbook        Books  319.34\n",
            "97      P098         SoundWave Laptop  Electronics  299.93\n",
            "98      P099   SoundWave Mystery Book        Books  354.29\n",
            "99      P100        HomeSense Sweater     Clothing  126.34\n",
            "\n",
            "[100 rows x 4 columns]\n"
          ]
        }
      ]
    },
    {
      "cell_type": "code",
      "source": [
        "transactions=pd.read_csv('/Transactions.csv')\n",
        "print(transactions)"
      ],
      "metadata": {
        "colab": {
          "base_uri": "https://localhost:8080/"
        },
        "id": "HKyBrsLrQez7",
        "outputId": "752bcf81-976d-4d27-f62d-d7a555fda658"
      },
      "execution_count": 21,
      "outputs": [
        {
          "output_type": "stream",
          "name": "stdout",
          "text": [
            "    TransactionID CustomerID ProductID      TransactionDate  Quantity  \\\n",
            "0          T00001      C0199      P067  2024-08-25 12:38:23         1   \n",
            "1          T00112      C0146      P067  2024-05-27 22:23:54         1   \n",
            "2          T00166      C0127      P067  2024-04-25 07:38:55         1   \n",
            "3          T00272      C0087      P067  2024-03-26 22:55:37         2   \n",
            "4          T00363      C0070      P067  2024-03-21 15:10:10         3   \n",
            "..            ...        ...       ...                  ...       ...   \n",
            "995        T00496      C0118      P037  2024-10-24 08:30:27         1   \n",
            "996        T00759      C0059      P037  2024-06-04 02:15:24         3   \n",
            "997        T00922      C0018      P037  2024-04-05 13:05:32         4   \n",
            "998        T00959      C0115      P037  2024-09-29 10:16:02         2   \n",
            "999        T00992      C0024      P037  2024-04-21 10:52:24         1   \n",
            "\n",
            "     TotalValue   Price  \n",
            "0        300.68  300.68  \n",
            "1        300.68  300.68  \n",
            "2        300.68  300.68  \n",
            "3        601.36  300.68  \n",
            "4        902.04  300.68  \n",
            "..          ...     ...  \n",
            "995      459.86  459.86  \n",
            "996     1379.58  459.86  \n",
            "997     1839.44  459.86  \n",
            "998      919.72  459.86  \n",
            "999      459.86  459.86  \n",
            "\n",
            "[1000 rows x 7 columns]\n"
          ]
        }
      ]
    },
    {
      "cell_type": "code",
      "source": [
        "customers['SignupDate']=pd.to_datetime(customers['SignupDate'])\n",
        "transactions['TransactionDate']=pd.to_datetime(transactions['TransactionDate'])\n",
        "customers['CustomerID']=customers['CustomerID'].str.strip()\n",
        "products['ProductID']=products['ProductID'].str.strip()\n",
        "transactions['CustomerID']=transactions['CustomerID'].str.strip()\n",
        "transactions['ProductID']=transactions['ProductID'].str.strip()"
      ],
      "metadata": {
        "id": "mOgW5HWtQoOj"
      },
      "execution_count": 22,
      "outputs": []
    },
    {
      "cell_type": "code",
      "source": [
        "top_products=transactions.groupby('ProductID')['Quantity'].sum().nlargest(5).reset_index()\n",
        "top_products=top_products.merge(products, on='ProductID')\n",
        "print(\"Top 5 Most Purchased Products:\\n\", top_products)"
      ],
      "metadata": {
        "colab": {
          "base_uri": "https://localhost:8080/"
        },
        "id": "srpGplekQs3s",
        "outputId": "bcf90a8d-04c0-4ccf-c8e6-b6af7500e2df"
      },
      "execution_count": 23,
      "outputs": [
        {
          "output_type": "stream",
          "name": "stdout",
          "text": [
            "Top 5 Most Purchased Products:\n",
            "   ProductID  Quantity            ProductName     Category   Price\n",
            "0      P054        46     SoundWave Cookbook        Books   57.30\n",
            "1      P059        46        SoundWave Jeans     Clothing  303.20\n",
            "2      P029        45     TechPro Headphones  Electronics  433.64\n",
            "3      P048        43       TechPro Cookbook        Books  416.40\n",
            "4      P057        43  ActiveWear Smartphone  Electronics  239.70\n"
          ]
        }
      ]
    },
    {
      "cell_type": "code",
      "source": [
        "region_revenue = transactions.merge(customers, on='CustomerID').groupby('Region')['TotalValue'].sum().reset_index()\n",
        "print(\"Revenue by Region:\\n\", region_revenue)"
      ],
      "metadata": {
        "colab": {
          "base_uri": "https://localhost:8080/"
        },
        "id": "5zvpfmYJQy4L",
        "outputId": "c434cb54-4ccd-4f9f-f39f-dfc318385b6f"
      },
      "execution_count": 24,
      "outputs": [
        {
          "output_type": "stream",
          "name": "stdout",
          "text": [
            "Revenue by Region:\n",
            "           Region  TotalValue\n",
            "0           Asia   152074.97\n",
            "1         Europe   166254.63\n",
            "2  North America   152313.40\n",
            "3  South America   219352.56\n"
          ]
        }
      ]
    },
    {
      "cell_type": "code",
      "source": [
        "signup_trends=customers['SignupDate'].dt.year.value_counts().sort_index()\n",
        "print(\"Customer Signup Trends:\\n\", signup_trends)"
      ],
      "metadata": {
        "colab": {
          "base_uri": "https://localhost:8080/"
        },
        "id": "ljpwZBAkQ3Ab",
        "outputId": "65b303d0-a0ce-4bb1-ee7c-1e9e0c53dbd3"
      },
      "execution_count": 25,
      "outputs": [
        {
          "output_type": "stream",
          "name": "stdout",
          "text": [
            "Customer Signup Trends:\n",
            " SignupDate\n",
            "2022    64\n",
            "2023    57\n",
            "2024    79\n",
            "Name: count, dtype: int64\n"
          ]
        }
      ]
    },
    {
      "cell_type": "code",
      "source": [
        "sns.barplot(x='Region', y='TotalValue', data=region_revenue)\n",
        "plt.title(\"Revenue by Region\")\n",
        "plt.xticks(rotation=45)\n",
        "plt.show()"
      ],
      "metadata": {
        "colab": {
          "base_uri": "https://localhost:8080/",
          "height": 540
        },
        "id": "TkOyp9YaQ9pk",
        "outputId": "aaeafcc2-1ad4-43cc-d551-4bf6a4227d7b"
      },
      "execution_count": 26,
      "outputs": [
        {
          "output_type": "display_data",
          "data": {
            "text/plain": [
              "<Figure size 640x480 with 1 Axes>"
            ],
            "image/png": "[encoded data removed]"
          },
          "metadata": {}
        }
      ]
    }
  ]
}